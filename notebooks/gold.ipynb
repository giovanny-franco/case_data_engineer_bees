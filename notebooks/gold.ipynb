{
 "cells": [
  {
   "cell_type": "markdown",
   "metadata": {},
   "source": [
    "# Gold layer"
   ]
  },
  {
   "cell_type": "markdown",
   "metadata": {},
   "source": [
    "### import libraries"
   ]
  },
  {
   "cell_type": "code",
   "execution_count": null,
   "metadata": {},
   "outputs": [],
   "source": [
    "import pandas as pd\n",
    "import boto3\n",
    "from io import BytesIO"
   ]
  },
  {
   "cell_type": "markdown",
   "metadata": {},
   "source": [
    "### Retrieving data from S3"
   ]
  },
  {
   "cell_type": "code",
   "execution_count": null,
   "metadata": {},
   "outputs": [],
   "source": [
    "s3 = boto3.client('s3')\n",
    "bucket_name = \"bucket-case-data-engineer-bees\"\n",
    "s3_file_name = \"silver/\"\n",
    "\n",
    "silver = s3.list_objects_v2(Bucket=bucket_name, Prefix=s3_file_name)"
   ]
  },
  {
   "cell_type": "code",
   "execution_count": null,
   "metadata": {},
   "outputs": [],
   "source": [
    "silver = [obj['Key'] for obj in silver.get('Contents', []) if obj['Key'].endswith('.parquet')]"
   ]
  },
  {
   "cell_type": "code",
   "execution_count": null,
   "metadata": {},
   "outputs": [],
   "source": [
    "silver_dataframe = pd.DataFrame()\n",
    "for file in silver:\n",
    "\n",
    "    temp_silver = s3.get_object(Bucket=bucket_name, Key=file)\n",
    "\n",
    "    temp_silver = pd.read_parquet(BytesIO(temp_silver['Body'].read()))\n",
    "    temp_silver.head()\n",
    "    silver_dataframe = pd.concat([silver_dataframe, temp_silver])"
   ]
  },
  {
   "cell_type": "code",
   "execution_count": null,
   "metadata": {},
   "outputs": [],
   "source": [
    "silver_dataframe.head()"
   ]
  },
  {
   "cell_type": "markdown",
   "metadata": {},
   "source": [
    "### Aggregating data by brewery_type, country, and state_province"
   ]
  },
  {
   "cell_type": "code",
   "execution_count": null,
   "metadata": {},
   "outputs": [],
   "source": [
    "gold = silver_dataframe.groupby(['brewery_type', 'country', 'state_province']).size().reset_index(name='count')\n",
    "gold.head()"
   ]
  },
  {
   "cell_type": "markdown",
   "metadata": {},
   "source": [
    "### Sending data back to S3"
   ]
  },
  {
   "cell_type": "code",
   "execution_count": null,
   "metadata": {},
   "outputs": [],
   "source": [
    "s3_file_name = \"gold/gold.parquet\"\n",
    "\n",
    "# buffering a parquet file in memory\n",
    "parquet_buffer = BytesIO()\n",
    "gold.to_parquet(parquet_buffer, index=False)\n",
    "\n",
    "# sending data to S3\n",
    "s3.put_object(Bucket=bucket_name, Key=s3_file_name, Body=parquet_buffer.getvalue())\n",
    "print(f\"File sent to s3://{bucket_name}/{s3_file_name}\")\n",
    "\n",
    "parquet_buffer.close()"
   ]
  }
 ],
 "metadata": {
  "kernelspec": {
   "display_name": "Python 3",
   "language": "python",
   "name": "python3"
  },
  "language_info": {
   "codemirror_mode": {
    "name": "ipython",
    "version": 3
   },
   "file_extension": ".py",
   "mimetype": "text/x-python",
   "name": "python",
   "nbconvert_exporter": "python",
   "pygments_lexer": "ipython3",
   "version": "3.12.4"
  }
 },
 "nbformat": 4,
 "nbformat_minor": 2
}
