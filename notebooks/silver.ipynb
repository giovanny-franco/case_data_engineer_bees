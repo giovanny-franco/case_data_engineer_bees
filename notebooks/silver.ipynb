{
 "cells": [
  {
   "cell_type": "markdown",
   "metadata": {},
   "source": [
    "# Silver layer"
   ]
  },
  {
   "cell_type": "markdown",
   "metadata": {},
   "source": [
    "### importing libraries"
   ]
  },
  {
   "cell_type": "code",
   "execution_count": null,
   "metadata": {},
   "outputs": [],
   "source": [
    "import pandas as pd\n",
    "import boto3\n",
    "from io import StringIO, BytesIO    "
   ]
  },
  {
   "cell_type": "markdown",
   "metadata": {},
   "source": [
    "### Retrieving data from S3"
   ]
  },
  {
   "cell_type": "code",
   "execution_count": null,
   "metadata": {},
   "outputs": [],
   "source": [
    "s3 = boto3.client('s3')\n",
    "bucket_name = \"bucket-case-data-engineer-bees\"\n",
    "s3_file_name = \"bronze/raw_data.csv\"\n",
    "\n",
    "bronze = s3.get_object(Bucket=bucket_name, Key=s3_file_name)"
   ]
  },
  {
   "cell_type": "markdown",
   "metadata": {},
   "source": [
    "### Transforming data into a pandas dataframe"
   ]
  },
  {
   "cell_type": "code",
   "execution_count": null,
   "metadata": {},
   "outputs": [],
   "source": [
    "bronze = bronze['Body'].read().decode('utf-8')"
   ]
  },
  {
   "cell_type": "code",
   "execution_count": null,
   "metadata": {},
   "outputs": [],
   "source": [
    "bronze = pd.read_csv(StringIO(bronze))\n",
    "bronze.head()"
   ]
  },
  {
   "cell_type": "markdown",
   "metadata": {},
   "source": [
    "### Partitioning data by country and state_province, and sending to S3"
   ]
  },
  {
   "cell_type": "code",
   "execution_count": null,
   "metadata": {},
   "outputs": [],
   "source": [
    "countries = bronze['country'].unique()\n",
    "\n",
    "for country in countries:\n",
    "    for state_province in bronze.loc[bronze['country'] == country, 'state_province']:\n",
    "        silver = bronze.loc[\n",
    "            (bronze['country'] == country)\n",
    "            & (bronze['state_province'] == state_province)\n",
    "        ]\n",
    "\n",
    "        # buffering a parquet file in memory\n",
    "        parquet_buffer = BytesIO()\n",
    "        silver.to_parquet(parquet_buffer, index=False)\n",
    "\n",
    "        # adding data into AWS S3\n",
    "        temp_s3_file_name = f'silver/{country}/{state_province}.parquet'\n",
    "        s3.put_object(Bucket=bucket_name, Key=temp_s3_file_name, Body=parquet_buffer.getvalue())\n",
    "        parquet_buffer.close()"
   ]
  }
 ],
 "metadata": {
  "kernelspec": {
   "display_name": "Python 3",
   "language": "python",
   "name": "python3"
  },
  "language_info": {
   "codemirror_mode": {
    "name": "ipython",
    "version": 3
   },
   "file_extension": ".py",
   "mimetype": "text/x-python",
   "name": "python",
   "nbconvert_exporter": "python",
   "pygments_lexer": "ipython3",
   "version": "3.12.4"
  }
 },
 "nbformat": 4,
 "nbformat_minor": 2
}
